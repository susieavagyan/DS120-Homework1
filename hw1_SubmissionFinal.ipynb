{
 "cells": [
  {
   "cell_type": "code",
   "execution_count": null,
   "metadata": {},
   "outputs": [],
   "source": [
    "# There is no need to run this chunk of code.\n",
    "import os\n",
    "wd=''\n",
    "os.chdir(wd)\n",
    "%run HW1_solutions.ipynb"
   ]
  },
  {
   "cell_type": "markdown",
   "metadata": {},
   "source": [
    "## Homework 1 Submission\n",
    "Write your name and surname below:\n",
    "<br>\n",
    "Name:Susanna\n",
    "<br>\n",
    "Surname:Avagyan"
   ]
  },
  {
   "cell_type": "markdown",
   "metadata": {},
   "source": [
    "***Problem 1:*** <br> Write a program that: <br>\n",
    "a. compares the lengths of two texts given below (i.e. the number of characters in each text) <br>\n",
    "b. compares the numbers of words in each text<br>\n",
    "c. calculates the frequency of each word (the number of times the word appears in the text) in each text and puts them in a dictionary <br>\n",
    "d. prints the number of unique words used in each text as a dictionary.\n",
    "<br>\n",
    "Example 1: {\"The legth of text a\": 487,\"The legth of text b\": 562}<br>\n",
    "Example 2: Word frequency- {\"Jovi\":2,\"in\": 4}\n"
   ]
  },
  {
   "cell_type": "code",
   "execution_count": 2,
   "metadata": {},
   "outputs": [],
   "source": [
    "a = 'Bon Jovi is an American rock band formed in 1983 in Sayreville, New Jersey. \\\n",
    "It consists of singer Jon Bon Jovi, keyboardist David Bryan, drummer Tico Torres, \\\n",
    "guitarist PhilX, and bassist Hugh McDonald. Previous bassist Alec John Such was \\\n",
    "dismissed in 1994, and longtime guitarist and co-songwriter Richie Sambora left in 2013.'\n",
    "\n",
    "b = \"Ronald Wilson Reagan (/ˈreɪɡən/; February 6, 1911 – June 5, 2004) \\\n",
    "was an American politician who served as the 40th president of the United \\\n",
    "States from 1981 to 1989. Prior to his presidency, he was a Hollywood actor \\\n",
    "and union leader before serving as the 33rd governor of California from 1967 to 1975.\""
   ]
  },
  {
   "cell_type": "code",
   "execution_count": 3,
   "metadata": {},
   "outputs": [
    {
     "name": "stdout",
     "output_type": "stream",
     "text": [
      "{'The legth of text a': 326, 'The legth of text b': 301}\n",
      "The length of a is greater than the length of b\n",
      "The number of words in a is less than the number of words in b\n",
      "{'Bon': 2, 'Jovi': 2, 'is': 9, 'an': 7, 'American': 1, 'rock': 1, 'band': 1, 'formed': 1, 'in': 5, '1983': 1, 'Sayreville': 1, 'New': 1, 'Jersey': 1, 'It': 1, 'consists': 1, 'of': 1, 'singer': 1, 'Jon': 1, 'keyboardist': 1, 'David': 1, 'Bryan': 1, 'drummer': 1, 'Tico': 1, 'Torres': 1, 'guitarist': 2, 'PhilX': 1, 'and': 4, 'bassist': 2, 'Hugh': 1, 'McDonald': 1, 'Previous': 1, 'Alec': 1, 'John': 1, 'Such': 1, 'was': 1, 'dismissed': 1, '1994': 1, 'longtime': 1, 'co-songwriter': 1, 'Richie': 1, 'Sambora': 1, 'left': 1, '2013': 1}\n",
      "{'a': 36, 'b': 36}\n"
     ]
    }
   ],
   "source": [
    "###_____________Start code here_________________###\n",
    "#a\n",
    "la=len(a)\n",
    "lb=len(b)\n",
    "string_dict={\"The legth of text a\": la,\"The legth of text b\": lb}\n",
    "print(string_dict)\n",
    "        \n",
    "if la>lb:\n",
    "    print(\"The length of a is greater than the length of b\")\n",
    "elif la==lb:\n",
    "    print(\"The length of a is equal to the length of b\")\n",
    "else:\n",
    "     print(\"The length of a is less than the length of b\")\n",
    "        \n",
    "#b\n",
    "wla=len(a.split())\n",
    "wlb=len(b.split())\n",
    "if wla>wlb:\n",
    "    print(\"The number of words in a is greater than the number of words in b\")\n",
    "elif wla==wlb:\n",
    "    print(\"The number of words in a is equal to the number of words in b\")\n",
    "else:\n",
    "     print(\"The number of words in a is less than the number of words in b\")\n",
    "\n",
    "\n",
    "#c\n",
    "def frequency(string):\n",
    "    string=string.replace(\",\",\"\")\n",
    "    string=string.replace(\".\",\"\")\n",
    "    list_str=string.split()\n",
    "    new_dict={}\n",
    "    for word in list_str:    \n",
    "        c=string.count(word)\n",
    "        new_dict.update({word:c})\n",
    "    print(new_dict)\n",
    "frequency(a)\n",
    "\n",
    "#d\n",
    "list_a=a.split()\n",
    "list_b=b.split()\n",
    "a_num=0\n",
    "b_num=0\n",
    "unique_dict={}\n",
    "for word in list_a:\n",
    "    if a.count(word)==1:\n",
    "        a_num+=1\n",
    "for word in list_b:\n",
    "    if b.count(word)==1:\n",
    "        b_num+=1\n",
    "        \n",
    "unique_dict.update({\"a\": a_num})\n",
    "unique_dict.update({\"b\": b_num})\n",
    "print(unique_dict)\n",
    "\n",
    "\n",
    "###_____________End code here_________________###"
   ]
  },
  {
   "cell_type": "code",
   "execution_count": null,
   "metadata": {},
   "outputs": [],
   "source": [
    "# There is no need to run this chunk of code.\n",
    "ex1(a,b)"
   ]
  },
  {
   "cell_type": "markdown",
   "metadata": {},
   "source": [
    "***Problem 13:*** Write a program to calculate the sum of the digits of a number  until it is a single-digit number (Example: **199** -> 1+9+9=**19** -> 1+9=**10** -> 1+0=**1**). Let the program print the result of each step (the bolded numbers in the example). Run the program for 289, 1011, 3333."
   ]
  },
  {
   "cell_type": "code",
   "execution_count": 6,
   "metadata": {},
   "outputs": [
    {
     "name": "stdout",
     "output_type": "stream",
     "text": [
      "12\n",
      "3\n"
     ]
    }
   ],
   "source": [
    "###_____________Start code here_________________###\n",
    "a=3333\n",
    "b=str(a)\n",
    "while(len(b)>1):\n",
    "    d=0\n",
    "    for i in b:\n",
    "        d=d+int(i)\n",
    "    b=str(d)\n",
    "    print(d)\n",
    "###_____________End code here_________________###"
   ]
  },
  {
   "cell_type": "code",
   "execution_count": null,
   "metadata": {},
   "outputs": [],
   "source": [
    "# There is no need to run this chunk of code.\n",
    "ex13(289)\n",
    "ex13(1011)\n",
    "ex13(3333)"
   ]
  },
  {
   "cell_type": "markdown",
   "metadata": {},
   "source": [
    "***Problem 14:*** Write a program to print a chess board where **\"X\"s** are black squares and **\"O\"s** are white ones. Hint: you can use \"end\" parameter of print() function to print on the same line and separate the outputs of different prints by space or any character you want. More on this topic here: https://www.geeksforgeeks.org/gfact-50-python-end-parameter-in-print/.\n",
    "<br>The output should be like this:\n",
    "<img src=\"chess.jpg\" style=\"width: 200px;\">"
   ]
  },
  {
   "cell_type": "code",
   "execution_count": 8,
   "metadata": {},
   "outputs": [
    {
     "name": "stdout",
     "output_type": "stream",
     "text": [
      "----------------\n",
      "|O|X|O|X|O|X|O|X|\n",
      "----------------\n",
      "|X|O|X|O|X|O|X|O|\n",
      "----------------\n",
      "|O|X|O|X|O|X|O|X|\n",
      "----------------\n",
      "|X|O|X|O|X|O|X|O|\n",
      "----------------\n",
      "|O|X|O|X|O|X|O|X|\n",
      "----------------\n",
      "|X|O|X|O|X|O|X|O|\n",
      "----------------\n",
      "|O|X|O|X|O|X|O|X|\n",
      "----------------\n",
      "|X|O|X|O|X|O|X|O|\n"
     ]
    }
   ],
   "source": [
    "###_____________Start code here_________________###\n",
    "def lncount(a):\n",
    "    for i in range(a):\n",
    "        print(\"-\"*(2*a))\n",
    "        if i%2==0:\n",
    "            print(\"|O|X\"*4, end=\"|\\n\")\n",
    "        else:\n",
    "            print(\"|X|O\"*4,end=\"|\\n\")\n",
    "lncount(8)\n",
    "\n",
    "###_____________End code here_________________###"
   ]
  },
  {
   "cell_type": "code",
   "execution_count": null,
   "metadata": {},
   "outputs": [],
   "source": [
    "# There is no need to run this chunk of code.\n",
    "ex14()"
   ]
  },
  {
   "cell_type": "markdown",
   "metadata": {},
   "source": [
    "***Problem 15:*** Write a program to reverse the digits of a given integer without using any built-in function or slicing. (**Example**: 12345 to 54321). Run the program for 4815162342."
   ]
  },
  {
   "cell_type": "code",
   "execution_count": 9,
   "metadata": {},
   "outputs": [
    {
     "name": "stdout",
     "output_type": "stream",
     "text": [
      "2432615184\n"
     ]
    }
   ],
   "source": [
    "###_____________Start code here_________________###\n",
    "a=4815162342\n",
    "b=str(a)\n",
    "e=\"\"\n",
    "index=len(b)-1\n",
    "while(index>=0):\n",
    "    e=e+b[index]\n",
    "    index-=1\n",
    "print(e) \n",
    "\n",
    "###_____________End code here_________________###"
   ]
  },
  {
   "cell_type": "code",
   "execution_count": null,
   "metadata": {},
   "outputs": [],
   "source": [
    "# There is no need to run this chunk of code.\n",
    "ex15(4815162342)"
   ]
  },
  {
   "cell_type": "markdown",
   "metadata": {},
   "source": [
    "***Problem 17:*** Write a function that will find all numbers between A and B (inclusive) such that each digit of the number is even. For example foo(20,26) returns [22,24,26]. Call the function for A=40 and B=140. 0 is even number."
   ]
  },
  {
   "cell_type": "code",
   "execution_count": 49,
   "metadata": {},
   "outputs": [
    {
     "name": "stdout",
     "output_type": "stream",
     "text": [
      "[42, 44, 46, 48, 60, 62, 64, 66, 68, 80, 82, 84, 86, 88]\n"
     ]
    }
   ],
   "source": [
    "###_____________Start code here_________________###\n",
    "def even(a,b):\n",
    "    lst1=[]\n",
    "    for i in range(a+1,b+1):\n",
    "            help=0\n",
    "            for j in str(i):\n",
    "                if int(j)%2==0:\n",
    "                    help+=1\n",
    "            if(help==len(str(i))):\n",
    "                lst1.append(i)                     \n",
    "    print(lst1)\n",
    "                \n",
    "even(40,140)\n",
    "\n",
    "###_____________End code here_________________###"
   ]
  },
  {
   "cell_type": "code",
   "execution_count": null,
   "metadata": {},
   "outputs": [],
   "source": [
    "# There is no need to run this chunk of code.\n",
    "ex17(40,140)"
   ]
  },
  {
   "cell_type": "markdown",
   "metadata": {},
   "source": [
    "***Problem 18:*** On basic cell phones numeric keypad is used to write a message. Write a function to output the numerical sequence of the keys to be pressed for any message. For instance, numerical sequence for typing \"P\" will be 7 and for \"I\" 444. Another example, the sequence for \"hello\" will be 4433555555666. Make the input text uppercase before converting to numerical sequence. Call the function for the following input **\"HI DEAR! I WILL BE LATE TODAY.\"**\n",
    "\n",
    "| Key | Symbols |\n",
    "|----|----|\n",
    "|1|. , ? ! :|\n",
    "|2|A B C|\n",
    "|3|D E F|\n",
    "|4|G H I|\n",
    "|5|J K L|\n",
    "|6|M N O|\n",
    "|7|P Q R S|\n",
    "|8|T U V|\n",
    "|9|W X Y Z|\n",
    "|0| space |\n"
   ]
  },
  {
   "cell_type": "code",
   "execution_count": 35,
   "metadata": {},
   "outputs": [
    {
     "name": "stdout",
     "output_type": "stream",
     "text": [
      "44,444,3,33,2,777,1111,444,9,444,555,555,22,33,555,2,8,33,8,666,3,2,999,1\n"
     ]
    }
   ],
   "source": [
    "###_____________Start code here_________________###\n",
    "def keypad(string):\n",
    "    dict1={\n",
    "        \"1\":[\".\",\",\",\"?\",\"!\",\":\"],\n",
    "        \"2\":[\"A\",\"B\",\"C\"],\n",
    "        \"3\":[\"D\",\"E\",\"F\"],\n",
    "        \"4\":[\"G\",\"H\",\"I\"],\n",
    "        \"5\":[\"J\",\"K\",\"L\"],\n",
    "        \"6\":[\"M\",\"N\",\"O\"],\n",
    "        \"7\":[\"P\",\"Q\",\"R\",\"S\"],\n",
    "        \"8\":[\"T\",\"U\",\"V\"],\n",
    "        \"9\":[\"W\",\"X\",\"Y\",\"Z\"]\n",
    "    }\n",
    "    seq=[]\n",
    "    string = string.upper()\n",
    "    for i in list(string):\n",
    "        for j in dict1.values():\n",
    "            for k in j:\n",
    "                if i==k:\n",
    "                    for l in dict1.keys():\n",
    "                        if k in dict1[l]:\n",
    "                            index=j.index(k) + 1\n",
    "                            num=l*index\n",
    "                            seq.append(num)\n",
    "    code=\",\".join(seq)\n",
    "    print(code)\n",
    "\n",
    "                                            \n",
    "keypad(\"HI DEAR! I WILL BE LATE TODAY.\")\n",
    "                                          \n",
    "\n",
    "###_____________End code here_________________###"
   ]
  },
  {
   "cell_type": "code",
   "execution_count": null,
   "metadata": {},
   "outputs": [],
   "source": [
    "# There is no need to run this chunk of code.\n",
    "print(ex18(\"HI DEAR! I WILL BE LATE TODAY.\"))"
   ]
  },
  {
   "cell_type": "markdown",
   "metadata": {},
   "source": [
    "***Problem 20:*** Write a program that accepts a sentence and prints the number of letters and digits in it. Run the program for \"1, 2, 3, 4... Let's run the code!\" "
   ]
  },
  {
   "cell_type": "code",
   "execution_count": 19,
   "metadata": {},
   "outputs": [
    {
     "name": "stdout",
     "output_type": "stream",
     "text": [
      "4 digits\n",
      "14 letters\n"
     ]
    }
   ],
   "source": [
    "###_____________Start code here_________________###\n",
    "a=\"1, 2, 3, 4... Let's run the code!\"\n",
    "digits=[i for i in a if i.isdigit()]\n",
    "letters=[j for j in a if j.isalpha()]\n",
    "print(\"{} digits\".format(len(digits)))\n",
    "print(\"{} letters\".format(len(letters)))\n",
    "\n",
    "###_____________End code here_________________###"
   ]
  },
  {
   "cell_type": "code",
   "execution_count": null,
   "metadata": {},
   "outputs": [],
   "source": [
    "# There is no need to run this chunk of code.\n",
    "ex20(\"1, 2, 3, 4... Let's run the code!\")"
   ]
  },
  {
   "cell_type": "markdown",
   "metadata": {},
   "source": [
    "***Problem 22:*** Two people throw two six-sided fair dices each. The one with greater sum wins, and if the sum is equal, they draw. Write a program that simulates the game and plays 100 time. Print the number of wins of Player 1, Player 2 and draws."
   ]
  },
  {
   "cell_type": "code",
   "execution_count": 20,
   "metadata": {},
   "outputs": [
    {
     "name": "stdout",
     "output_type": "stream",
     "text": [
      "Player 1 wins: 44\n",
      "Player 2 wins: 47\n",
      "Draws: 9\n"
     ]
    }
   ],
   "source": [
    "###_____________Start code here_________________###\n",
    "import random\n",
    "player1_wins=0\n",
    "player2_wins=0\n",
    "draws=0\n",
    "game_round=1\n",
    "while(game_round<=100):\n",
    "    player1=random.randint(7,13)\n",
    "    player2=random.randint(7,13)\n",
    "    if (player1>player2):\n",
    "        player1_wins+=1\n",
    "    elif(player1<player2):\n",
    "        player2_wins+=1 \n",
    "    else:\n",
    "        draws+=1\n",
    "    game_round+=1\n",
    "print(\"Player 1 wins: {}\".format(player1_wins))\n",
    "print(\"Player 2 wins: {}\".format(player2_wins))\n",
    "print(\"Draws: {}\".format(draws))\n",
    "\n",
    "\n",
    "###_____________End code here_________________###"
   ]
  },
  {
   "cell_type": "code",
   "execution_count": 21,
   "metadata": {},
   "outputs": [
    {
     "ename": "NameError",
     "evalue": "name 'ex22' is not defined",
     "output_type": "error",
     "traceback": [
      "\u001b[1;31m---------------------------------------------------------------------------\u001b[0m",
      "\u001b[1;31mNameError\u001b[0m                                 Traceback (most recent call last)",
      "\u001b[1;32m<ipython-input-21-8e33a7072d9e>\u001b[0m in \u001b[0;36m<module>\u001b[1;34m\u001b[0m\n\u001b[0;32m      1\u001b[0m \u001b[1;31m# There is no need to run this chunk of code.\u001b[0m\u001b[1;33m\u001b[0m\u001b[1;33m\u001b[0m\u001b[1;33m\u001b[0m\u001b[0m\n\u001b[1;32m----> 2\u001b[1;33m \u001b[0mex22\u001b[0m\u001b[1;33m(\u001b[0m\u001b[1;33m)\u001b[0m\u001b[1;33m\u001b[0m\u001b[1;33m\u001b[0m\u001b[0m\n\u001b[0m",
      "\u001b[1;31mNameError\u001b[0m: name 'ex22' is not defined"
     ]
    }
   ],
   "source": [
    "# There is no need to run this chunk of code.\n",
    "ex22()"
   ]
  },
  {
   "cell_type": "markdown",
   "metadata": {},
   "source": [
    "***Problem 23:*** Write a program that randomly generates a nine-character password. First 3 characters must be from the set \"let\", second 3 characters from the set \"num\", last three ones from the set \"sym\". Set seed() to 42 and generate a password."
   ]
  },
  {
   "cell_type": "code",
   "execution_count": 23,
   "metadata": {},
   "outputs": [],
   "source": [
    "let = {'A','B','C','a','b','c'}\n",
    "num = {1,2,3,4,5,6}\n",
    "sym = {'!','@','#','$','%','^'}"
   ]
  },
  {
   "cell_type": "code",
   "execution_count": 26,
   "metadata": {},
   "outputs": [
    {
     "data": {
      "text/plain": [
       "'Ccb632$%^'"
      ]
     },
     "execution_count": 26,
     "metadata": {},
     "output_type": "execute_result"
    }
   ],
   "source": [
    "###_____________Start code here_________________###\n",
    "import random\n",
    "random.seed(42)\n",
    "chars=random.sample(let,3)+random.sample(num,3)+random.sample(sym,3)\n",
    "password=''.join(str(i) for i in chars)\n",
    "password\n",
    "\n",
    "\n",
    "###_____________End code here_________________###"
   ]
  },
  {
   "cell_type": "code",
   "execution_count": null,
   "metadata": {},
   "outputs": [],
   "source": [
    "# There is no need to run this chunk of code.\n",
    "ex23()"
   ]
  },
  {
   "cell_type": "markdown",
   "metadata": {},
   "source": [
    "\n",
    "***Problem 24:*** Write a program to find all the numbers divisible by 6 but not a multiple of 5 between 100 and 500 (inclusive). Print the numbers as a comma-separated string."
   ]
  },
  {
   "cell_type": "code",
   "execution_count": 52,
   "metadata": {},
   "outputs": [
    {
     "name": "stdout",
     "output_type": "stream",
     "text": [
      "102,108,114,126,132,138,144,156,162,168,174,186,192,198,204,216,222,228,234,246,252,258,264,276,282,288,294,306,312,318,324,336,342,348,354,366,372,378,384,396,402,408,414,426,432,438,444,456,462,468,474,486,492,498,\n"
     ]
    }
   ],
   "source": [
    "###_____________Start code here_________________###\n",
    "nums=\"\"\n",
    "for i in range(100,501):\n",
    "    if i%6==0:\n",
    "        if i%5!=0:\n",
    "            nums=nums+str(i)+\",\"\n",
    "print(nums)\n",
    "\n",
    "###_____________End code here_________________###"
   ]
  },
  {
   "cell_type": "code",
   "execution_count": null,
   "metadata": {},
   "outputs": [],
   "source": [
    "# There is no need to run this chunk of code.\n",
    "ex24()"
   ]
  },
  {
   "cell_type": "markdown",
   "metadata": {},
   "source": [
    "***Example 25:*** Write a program that converts \"firstname lastname\" to \"lastname, firstname\", using list comprehensions."
   ]
  },
  {
   "cell_type": "code",
   "execution_count": 30,
   "metadata": {},
   "outputs": [],
   "source": [
    "ls = ['Հրաչյա Վարդանյան', 'Անուշ Կարապետյան', 'Գոռ Անտոնյան', 'Տաթեւ Հարությունյան', 'Mary Sargsyan']"
   ]
  },
  {
   "cell_type": "code",
   "execution_count": 31,
   "metadata": {},
   "outputs": [
    {
     "data": {
      "text/plain": [
       "['Վարդանյան Հրաչյա',\n",
       " 'Կարապետյան Անուշ',\n",
       " 'Անտոնյան Գոռ',\n",
       " 'Հարությունյան Տաթեւ',\n",
       " 'Sargsyan Mary']"
      ]
     },
     "execution_count": 31,
     "metadata": {},
     "output_type": "execute_result"
    }
   ],
   "source": [
    "###_____________Start code here_________________###\n",
    "new_ls=[i.split() for i in ls]\n",
    "for i in new_ls:\n",
    "    i[0],i[1]=i[1],i[0] \n",
    "swap_ls=[' '.join(i) for i in new_ls]\n",
    "swap_ls\n",
    "\n",
    "###_____________End code here_________________###"
   ]
  },
  {
   "cell_type": "code",
   "execution_count": null,
   "metadata": {},
   "outputs": [],
   "source": [
    "# There is no need to run this chunk of code.\n",
    "ex25(ls)"
   ]
  },
  {
   "cell_type": "markdown",
   "metadata": {},
   "source": [
    "***Problem 27:*** Write a function to devide an input list of ages between 0 and 70 into 4 groups.<br><br>\n",
    "Baby Boomers  - (50 to 70 years old]<br>\n",
    "Generation X - (34 to 50 years old]<br>\n",
    "Generation Y - (18 to 34 years old]<br>\n",
    "Generation Z - [0 to 18 years old]<br>\n",
    "\n",
    "Return a dictionary with the following structure:\n",
    "{'Group 1':[ages],'Group 2':[ages],'Group 3':[ages],'Group 4':[ages]}"
   ]
  },
  {
   "cell_type": "code",
   "execution_count": 32,
   "metadata": {},
   "outputs": [
    {
     "name": "stdout",
     "output_type": "stream",
     "text": [
      "{'Group 1': [69, 58, 52, 65], 'Group 2': [], 'Group 3': [29, 23, 24], 'Group 4': [18, 3, 14, 10, 1, 5]}\n"
     ]
    }
   ],
   "source": [
    "ls = [18,29,3,14,69,10,1,58,52,23,24,5,65]\n",
    "###_____________Start code here_________________###\n",
    "def divide(lst):\n",
    "    baby_boomers=[]\n",
    "    generation_x=[]\n",
    "    generation_y=[]\n",
    "    generation_z=[]\n",
    "    for age in lst:\n",
    "        if age>50 and age<=70:\n",
    "            baby_boomers.append(age)\n",
    "        elif age>35 and age<=50:\n",
    "            generation_x.append(age)\n",
    "        elif age>18 and age<=34:\n",
    "            generation_y.append(age)\n",
    "        elif age>=0 and age<=18:\n",
    "            generation_z.append(age)\n",
    "    age_dict={'Group 1':baby_boomers,'Group 2':generation_x,'Group 3':generation_y,'Group 4':generation_z}\n",
    "    print(age_dict)\n",
    "divide(ls)\n",
    "\n",
    "###_____________End code here_________________###"
   ]
  },
  {
   "cell_type": "code",
   "execution_count": null,
   "metadata": {},
   "outputs": [],
   "source": [
    "# There is no need to run this chunk of code.\n",
    "ex27(ls)"
   ]
  }
 ],
 "metadata": {
  "kernelspec": {
   "display_name": "Python 3",
   "language": "python",
   "name": "python3"
  },
  "language_info": {
   "codemirror_mode": {
    "name": "ipython",
    "version": 3
   },
   "file_extension": ".py",
   "mimetype": "text/x-python",
   "name": "python",
   "nbconvert_exporter": "python",
   "pygments_lexer": "ipython3",
   "version": "3.7.1"
  }
 },
 "nbformat": 4,
 "nbformat_minor": 2
}
